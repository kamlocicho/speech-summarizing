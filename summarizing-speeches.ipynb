{
 "cells": [
  {
   "cell_type": "code",
   "execution_count": 66,
   "metadata": {},
   "outputs": [],
   "source": [
    "# !pip3 install requests\n",
    "# !pip3 install beautifulsoup4\n",
    "# !pip3 install nltk"
   ]
  },
  {
   "cell_type": "code",
   "execution_count": 67,
   "metadata": {},
   "outputs": [
    {
     "name": "stderr",
     "output_type": "stream",
     "text": [
      "[nltk_data] Downloading package punkt to\n",
      "[nltk_data]     /Users/kamilorwat/nltk_data...\n",
      "[nltk_data]   Package punkt is already up-to-date!\n"
     ]
    },
    {
     "data": {
      "text/plain": [
       "True"
      ]
     },
     "execution_count": 67,
     "metadata": {},
     "output_type": "execute_result"
    }
   ],
   "source": [
    "import nltk\n",
    "nltk.download('punkt')"
   ]
  },
  {
   "cell_type": "code",
   "execution_count": 68,
   "metadata": {},
   "outputs": [],
   "source": [
    "\n",
    "from collections import Counter\n",
    "import re\n",
    "import requests\n",
    "import bs4\n",
    "from nltk.corpus import stopwords"
   ]
  },
  {
   "cell_type": "markdown",
   "metadata": {},
   "source": [
    "Scraping and cleaning up data and also asking user for preferences"
   ]
  },
  {
   "cell_type": "code",
   "execution_count": 69,
   "metadata": {},
   "outputs": [],
   "source": [
    "url = \"http://www.analytictech.com/mb021/mlk.htm\"\n",
    "page = requests.get(url)\n",
    "page.raise_for_status()\n",
    "soup = bs4.BeautifulSoup(page.text, \"html.parser\")\n",
    "p_elems = [element.text for element in soup.find_all('p')]\n",
    "speech = ' '.join(p_elems)\n",
    "\n",
    "speech.replace('(mowing', 'knowing')\n",
    "speech_edit = re.sub(r'\\s+', ' ', speech)\n",
    "speech_edit = re.sub(r'[^a-zA-Z\\s]', ' ', speech_edit)\n",
    "\n",
    "while True:\n",
    "    max_words = input(\"How many words would you like to see in each sentence? \")\n",
    "    num_sents = input(\"How many sentences would you like to see? \")\n",
    "    if max_words.isdigit() and num_sents.isdigit():\n",
    "        break\n",
    "    print(\"Please enter a valid numbers.\")\n",
    "    "
   ]
  },
  {
   "cell_type": "markdown",
   "metadata": {},
   "source": [
    "Remove non indexing words such as: the, as, is"
   ]
  },
  {
   "cell_type": "code",
   "execution_count": 70,
   "metadata": {},
   "outputs": [],
   "source": [
    "def remove_stopwords(speech_edit: str) -> list[str]:\n",
    "    stop_words = set(stopwords.words('english'))\n",
    "    speech_edit_no_stop = [word for word in speech_edit.split() if word.lower() not in stop_words]\n",
    "    return speech_edit_no_stop"
   ]
  },
  {
   "cell_type": "code",
   "execution_count": 71,
   "metadata": {},
   "outputs": [
    {
     "data": {
      "text/plain": [
       "['happy',\n",
       " 'join',\n",
       " 'today',\n",
       " 'go',\n",
       " 'history',\n",
       " 'greatest',\n",
       " 'demonstration',\n",
       " 'freedom',\n",
       " 'history',\n",
       " 'nation']"
      ]
     },
     "execution_count": 71,
     "metadata": {},
     "output_type": "execute_result"
    }
   ],
   "source": [
    "speech_edit_no_stop = remove_stopwords(speech_edit)\n",
    "speech_edit_no_stop[:10]"
   ]
  },
  {
   "cell_type": "markdown",
   "metadata": {},
   "source": [
    "Calculating the frequences of given words"
   ]
  },
  {
   "cell_type": "code",
   "execution_count": 72,
   "metadata": {},
   "outputs": [],
   "source": [
    "def calculate_frequencies(speech_edit_no_stop: list[str]) -> nltk.FreqDist:\n",
    "    tokenized = nltk.word_tokenize(\" \".join(speech_edit_no_stop).lower())\n",
    "    word_freq = nltk.FreqDist(tokenized)\n",
    "    return word_freq"
   ]
  },
  {
   "cell_type": "code",
   "execution_count": 73,
   "metadata": {},
   "outputs": [
    {
     "data": {
      "text/plain": [
       "[('freedom', 13),\n",
       " ('one', 12),\n",
       " ('ring', 12),\n",
       " ('dream', 11),\n",
       " ('let', 10),\n",
       " ('day', 9),\n",
       " ('negro', 8),\n",
       " ('today', 7),\n",
       " ('able', 7),\n",
       " ('every', 7)]"
      ]
     },
     "execution_count": 73,
     "metadata": {},
     "output_type": "execute_result"
    }
   ],
   "source": [
    "word_freq = calculate_frequencies(speech_edit_no_stop)\n",
    "word_freq.most_common(10)"
   ]
  },
  {
   "cell_type": "markdown",
   "metadata": {},
   "source": [
    "Applying scores to sentences and ranking them "
   ]
  },
  {
   "cell_type": "code",
   "execution_count": 74,
   "metadata": {},
   "outputs": [],
   "source": [
    "def score_sentences(speech: str, word_freq: nltk.FreqDist, max_words: int) -> dict[str, float]:\n",
    "    scores = dict()\n",
    "    sentences = nltk.sent_tokenize(speech)\n",
    "    \n",
    "    for sentence in sentences:\n",
    "        scores[sentence] = 0\n",
    "        words = nltk.word_tokenize(sentence.lower())\n",
    "        sentence_length = len(words)\n",
    "        if sentence_length <= int(max_words):\n",
    "            for word in words:\n",
    "                if word in word_freq.keys():\n",
    "                    scores[sentence] += word_freq[word]\n",
    "            scores[sentence] = scores[sentence] / sentence_length \n",
    "    return scores"
   ]
  },
  {
   "cell_type": "code",
   "execution_count": 75,
   "metadata": {},
   "outputs": [
    {
     "name": "stdout",
     "output_type": "stream",
     "text": [
      "\n",
      "Summary: \n",
      "\n",
      "From every mountainside, let freedom ring.\n",
      "Let freedom ring from Lookout Mountain in Tennessee!\n",
      "Let freedom ring from every hill and molehill in Mississippi.\n",
      "Let freedom ring from the curvaceous slopes of California!\n",
      "Let freedom ring from the snow capped Rockies of Colorado!\n",
      "But one hundred years later the Negro is still not free.\n",
      "From the\n",
      "mighty mountains of New York, let freedom ring.\n",
      "From the\n",
      "prodigious hilltops of New Hampshire, let freedom ring.\n",
      "And I say to you today my friends, let freedom ring.\n",
      "I have a dream today.\n",
      "It is a dream deeply rooted in the American\n",
      "dream.\n",
      "Free at\n",
      "last!\n",
      "Thank God almighty, we're free at last!\"\n",
      "We must not allow our creative protest to\n",
      "degenerate into physical violence.\n",
      "This is the faith that I go back to the\n",
      "mount with.\n"
     ]
    }
   ],
   "source": [
    "scores = score_sentences(speech, word_freq, max_words)\n",
    "\n",
    "counts = Counter(scores)\n",
    "summary = counts.most_common(int(num_sents))\n",
    "print(\"\\nSummary: \\n\")\n",
    "\n",
    "for i in summary:\n",
    "    print(i[0])"
   ]
  }
 ],
 "metadata": {
  "kernelspec": {
   "display_name": "Python 3",
   "language": "python",
   "name": "python3"
  },
  "language_info": {
   "codemirror_mode": {
    "name": "ipython",
    "version": 3
   },
   "file_extension": ".py",
   "mimetype": "text/x-python",
   "name": "python",
   "nbconvert_exporter": "python",
   "pygments_lexer": "ipython3",
   "version": "3.12.1"
  }
 },
 "nbformat": 4,
 "nbformat_minor": 2
}
